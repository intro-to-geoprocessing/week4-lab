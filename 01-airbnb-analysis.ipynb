{
 "metadata": {
  "language_info": {
   "codemirror_mode": {
    "name": "ipython",
    "version": 3
   },
   "file_extension": ".py",
   "mimetype": "text/x-python",
   "name": "python",
   "nbconvert_exporter": "python",
   "pygments_lexer": "ipython3",
   "version": "3.8.3-final"
  },
  "orig_nbformat": 2,
  "kernelspec": {
   "name": "Python 3.8.3 64-bit ('.venv')",
   "display_name": "Python 3.8.3 64-bit ('.venv')",
   "metadata": {
    "interpreter": {
     "hash": "f835933c4ebd0bfc6adf39fb6ba5b3f81a7d4732efb86c836f0db58704fd3006"
    }
   }
  }
 },
 "nbformat": 4,
 "nbformat_minor": 2,
 "cells": [
  {
   "source": [
    "# Importing and manipulating data with Pandas\n",
    "An initial analysis of AirBnB listings in Brussels."
   ],
   "cell_type": "markdown",
   "metadata": {}
  },
  {
   "cell_type": "code",
   "execution_count": 1,
   "metadata": {
    "tags": []
   },
   "outputs": [
    {
     "output_type": "execute_result",
     "data": {
      "text/plain": [
       "DataTransformerRegistry.enable('json')"
      ]
     },
     "metadata": {},
     "execution_count": 1
    }
   ],
   "source": [
    "# this cell contains our library imports\n",
    "import pandas as pd\n",
    "import altair as alt\n",
    "\n",
    "alt.data_transformers.disable_max_rows()\n",
    "alt.data_transformers.enable('json')"
   ]
  },
  {
   "cell_type": "code",
   "execution_count": 2,
   "metadata": {},
   "outputs": [],
   "source": [
    "data = pd.read_csv('listings_brussels_20190813.csv')"
   ]
  },
  {
   "source": [
    "## Clean up the data a bit and calculate occupancy information"
   ],
   "cell_type": "markdown",
   "metadata": {}
  },
  {
   "cell_type": "code",
   "execution_count": 3,
   "metadata": {},
   "outputs": [],
   "source": [
    "data = data.query('price < 600') # entries over 600 euro are likely typos or hosts that misunderstood the platform\n",
    "data = data.query('reviews_per_month > 0 & last_review > \"2018-07-31\"') # we remove any listings with zero reviews for now to focus only on 'active' listings"
   ]
  },
  {
   "cell_type": "code",
   "execution_count": 4,
   "metadata": {},
   "outputs": [],
   "source": [
    "def calculate_occupancy_rate(number_of_reviews, minimum_nights):\n",
    "    # first we set some additional assumptions\n",
    "    review_rate = 0.5\n",
    "    days_in_month = 31\n",
    "    average_stay_length_assumption = 3\n",
    "    max_occupancy = 0.7\n",
    "\n",
    "    # calculate occupancy\n",
    "    average_stay_length = minimum_nights.clip(lower = average_stay_length_assumption)\n",
    "    occupancy_per_month = number_of_reviews / review_rate * average_stay_length / days_in_month\n",
    "    \n",
    "    # cap occupancy at max_occupancy\n",
    "    exceed_max_occupancy = occupancy_per_month > max_occupancy\n",
    "    \n",
    "    occupancy_per_month.loc[exceed_max_occupancy] = 0.7\n",
    "\n",
    "    # fill missing values with a zero (0)\n",
    "    occupancy_per_month_fillna = occupancy_per_month.fillna(0)\n",
    "\n",
    "    return occupancy_per_month_fillna"
   ]
  },
  {
   "cell_type": "code",
   "execution_count": 5,
   "metadata": {},
   "outputs": [],
   "source": [
    "data['occupancy_rate'] = calculate_occupancy_rate(data['reviews_per_month'], data['minimum_nights'])\n",
    "data['monthly_rental_income'] =  data['price'] * data['occupancy_rate'] * 31"
   ]
  },
  {
   "source": [
    "## Ready to roll"
   ],
   "cell_type": "markdown",
   "metadata": {}
  },
  {
   "cell_type": "code",
   "execution_count": 6,
   "metadata": {},
   "outputs": [
    {
     "output_type": "execute_result",
     "data": {
      "text/plain": [
       "            id                                               name    host_id  \\\n",
       "0         2352  Triplex-2chmbrs,grande sdb,terrasse= tous confort       2582   \n",
       "1         2354                COURT/Long- 1chmb+1salon+sdd+terras       2582   \n",
       "2        42521  Ixelles: spacious bedroom+boudoir+ensuite bath...     185699   \n",
       "3        45145                       B&B Welcome to my place -  2     199370   \n",
       "5        52796                 Bright apartment in Ixelles/Louise     244722   \n",
       "...        ...                                                ...        ...   \n",
       "8830  37472109                       La guarida de Cinquantenaire  282690578   \n",
       "8839  37490590   Appartement 75m² lumineux & cosy - Saint Antoine   26375325   \n",
       "8849  37522158  appartement sympathique dans le quartier d'Ixe...  190430531   \n",
       "8864  37561594         Bright apartment in the historical center.  283734248   \n",
       "8878  37619879  Very Confortable room in vibrant area of Brussels    7374840   \n",
       "\n",
       "     host_name          neighbourhood  latitude  longitude        room_type  \\\n",
       "0          Oda   Molenbeek-Saint-Jean  50.85787    4.30809  Entire home/apt   \n",
       "1          Oda   Molenbeek-Saint-Jean  50.85697    4.30651  Entire home/apt   \n",
       "2       Claire                Ixelles  50.81929    4.38790     Private room   \n",
       "3        Erick  Saint-Josse-ten-Noode  50.85300    4.36971     Private room   \n",
       "5       Pierre                Ixelles  50.83356    4.36027  Entire home/apt   \n",
       "...        ...                    ...       ...        ...              ...   \n",
       "8830   Antonio              Bruxelles  50.84451    4.39488  Entire home/apt   \n",
       "8839    Pierre              Etterbeek  50.83065    4.38724  Entire home/apt   \n",
       "8849    Pierre                Ixelles  50.82105    4.38667     Private room   \n",
       "8864       Max              Bruxelles  50.84614    4.35407  Entire home/apt   \n",
       "8878    Sabine                Ixelles  50.83417    4.36558     Private room   \n",
       "\n",
       "      price  minimum_nights  number_of_reviews last_review  reviews_per_month  \\\n",
       "0        93               2                 15  2018-12-31               0.23   \n",
       "1        78               2                  2  2018-10-28               0.05   \n",
       "2        45               2                130  2019-07-28               1.19   \n",
       "3        70               2                  3  2019-04-08               0.03   \n",
       "5        74               5                 96  2019-07-20               0.93   \n",
       "...     ...             ...                ...         ...                ...   \n",
       "8830     40               1                  1  2019-08-07               1.00   \n",
       "8839     65               2                  1  2019-08-11               1.00   \n",
       "8849     28               1                  1  2019-08-07               1.00   \n",
       "8864     70               2                  1  2019-08-10               1.00   \n",
       "8878     55               1                  1  2019-08-11               1.00   \n",
       "\n",
       "      availability_365  occupancy_rate  monthly_rental_income  \n",
       "0                  229        0.044516                 128.34  \n",
       "1                  340        0.009677                  23.40  \n",
       "2                  283        0.230323                 321.30  \n",
       "3                  190        0.005806                  12.60  \n",
       "5                  326        0.300000                 688.20  \n",
       "...                ...             ...                    ...  \n",
       "8830                 2        0.193548                 240.00  \n",
       "8839                56        0.193548                 390.00  \n",
       "8849                69        0.193548                 168.00  \n",
       "8864               122        0.193548                 420.00  \n",
       "8878               213        0.193548                 330.00  \n",
       "\n",
       "[5899 rows x 16 columns]"
      ],
      "text/html": "<div>\n<style scoped>\n    .dataframe tbody tr th:only-of-type {\n        vertical-align: middle;\n    }\n\n    .dataframe tbody tr th {\n        vertical-align: top;\n    }\n\n    .dataframe thead th {\n        text-align: right;\n    }\n</style>\n<table border=\"1\" class=\"dataframe\">\n  <thead>\n    <tr style=\"text-align: right;\">\n      <th></th>\n      <th>id</th>\n      <th>name</th>\n      <th>host_id</th>\n      <th>host_name</th>\n      <th>neighbourhood</th>\n      <th>latitude</th>\n      <th>longitude</th>\n      <th>room_type</th>\n      <th>price</th>\n      <th>minimum_nights</th>\n      <th>number_of_reviews</th>\n      <th>last_review</th>\n      <th>reviews_per_month</th>\n      <th>availability_365</th>\n      <th>occupancy_rate</th>\n      <th>monthly_rental_income</th>\n    </tr>\n  </thead>\n  <tbody>\n    <tr>\n      <th>0</th>\n      <td>2352</td>\n      <td>Triplex-2chmbrs,grande sdb,terrasse= tous confort</td>\n      <td>2582</td>\n      <td>Oda</td>\n      <td>Molenbeek-Saint-Jean</td>\n      <td>50.85787</td>\n      <td>4.30809</td>\n      <td>Entire home/apt</td>\n      <td>93</td>\n      <td>2</td>\n      <td>15</td>\n      <td>2018-12-31</td>\n      <td>0.23</td>\n      <td>229</td>\n      <td>0.044516</td>\n      <td>128.34</td>\n    </tr>\n    <tr>\n      <th>1</th>\n      <td>2354</td>\n      <td>COURT/Long- 1chmb+1salon+sdd+terras</td>\n      <td>2582</td>\n      <td>Oda</td>\n      <td>Molenbeek-Saint-Jean</td>\n      <td>50.85697</td>\n      <td>4.30651</td>\n      <td>Entire home/apt</td>\n      <td>78</td>\n      <td>2</td>\n      <td>2</td>\n      <td>2018-10-28</td>\n      <td>0.05</td>\n      <td>340</td>\n      <td>0.009677</td>\n      <td>23.40</td>\n    </tr>\n    <tr>\n      <th>2</th>\n      <td>42521</td>\n      <td>Ixelles: spacious bedroom+boudoir+ensuite bath...</td>\n      <td>185699</td>\n      <td>Claire</td>\n      <td>Ixelles</td>\n      <td>50.81929</td>\n      <td>4.38790</td>\n      <td>Private room</td>\n      <td>45</td>\n      <td>2</td>\n      <td>130</td>\n      <td>2019-07-28</td>\n      <td>1.19</td>\n      <td>283</td>\n      <td>0.230323</td>\n      <td>321.30</td>\n    </tr>\n    <tr>\n      <th>3</th>\n      <td>45145</td>\n      <td>B&amp;B Welcome to my place -  2</td>\n      <td>199370</td>\n      <td>Erick</td>\n      <td>Saint-Josse-ten-Noode</td>\n      <td>50.85300</td>\n      <td>4.36971</td>\n      <td>Private room</td>\n      <td>70</td>\n      <td>2</td>\n      <td>3</td>\n      <td>2019-04-08</td>\n      <td>0.03</td>\n      <td>190</td>\n      <td>0.005806</td>\n      <td>12.60</td>\n    </tr>\n    <tr>\n      <th>5</th>\n      <td>52796</td>\n      <td>Bright apartment in Ixelles/Louise</td>\n      <td>244722</td>\n      <td>Pierre</td>\n      <td>Ixelles</td>\n      <td>50.83356</td>\n      <td>4.36027</td>\n      <td>Entire home/apt</td>\n      <td>74</td>\n      <td>5</td>\n      <td>96</td>\n      <td>2019-07-20</td>\n      <td>0.93</td>\n      <td>326</td>\n      <td>0.300000</td>\n      <td>688.20</td>\n    </tr>\n    <tr>\n      <th>...</th>\n      <td>...</td>\n      <td>...</td>\n      <td>...</td>\n      <td>...</td>\n      <td>...</td>\n      <td>...</td>\n      <td>...</td>\n      <td>...</td>\n      <td>...</td>\n      <td>...</td>\n      <td>...</td>\n      <td>...</td>\n      <td>...</td>\n      <td>...</td>\n      <td>...</td>\n      <td>...</td>\n    </tr>\n    <tr>\n      <th>8830</th>\n      <td>37472109</td>\n      <td>La guarida de Cinquantenaire</td>\n      <td>282690578</td>\n      <td>Antonio</td>\n      <td>Bruxelles</td>\n      <td>50.84451</td>\n      <td>4.39488</td>\n      <td>Entire home/apt</td>\n      <td>40</td>\n      <td>1</td>\n      <td>1</td>\n      <td>2019-08-07</td>\n      <td>1.00</td>\n      <td>2</td>\n      <td>0.193548</td>\n      <td>240.00</td>\n    </tr>\n    <tr>\n      <th>8839</th>\n      <td>37490590</td>\n      <td>Appartement 75m² lumineux &amp; cosy - Saint Antoine</td>\n      <td>26375325</td>\n      <td>Pierre</td>\n      <td>Etterbeek</td>\n      <td>50.83065</td>\n      <td>4.38724</td>\n      <td>Entire home/apt</td>\n      <td>65</td>\n      <td>2</td>\n      <td>1</td>\n      <td>2019-08-11</td>\n      <td>1.00</td>\n      <td>56</td>\n      <td>0.193548</td>\n      <td>390.00</td>\n    </tr>\n    <tr>\n      <th>8849</th>\n      <td>37522158</td>\n      <td>appartement sympathique dans le quartier d'Ixe...</td>\n      <td>190430531</td>\n      <td>Pierre</td>\n      <td>Ixelles</td>\n      <td>50.82105</td>\n      <td>4.38667</td>\n      <td>Private room</td>\n      <td>28</td>\n      <td>1</td>\n      <td>1</td>\n      <td>2019-08-07</td>\n      <td>1.00</td>\n      <td>69</td>\n      <td>0.193548</td>\n      <td>168.00</td>\n    </tr>\n    <tr>\n      <th>8864</th>\n      <td>37561594</td>\n      <td>Bright apartment in the historical center.</td>\n      <td>283734248</td>\n      <td>Max</td>\n      <td>Bruxelles</td>\n      <td>50.84614</td>\n      <td>4.35407</td>\n      <td>Entire home/apt</td>\n      <td>70</td>\n      <td>2</td>\n      <td>1</td>\n      <td>2019-08-10</td>\n      <td>1.00</td>\n      <td>122</td>\n      <td>0.193548</td>\n      <td>420.00</td>\n    </tr>\n    <tr>\n      <th>8878</th>\n      <td>37619879</td>\n      <td>Very Confortable room in vibrant area of Brussels</td>\n      <td>7374840</td>\n      <td>Sabine</td>\n      <td>Ixelles</td>\n      <td>50.83417</td>\n      <td>4.36558</td>\n      <td>Private room</td>\n      <td>55</td>\n      <td>1</td>\n      <td>1</td>\n      <td>2019-08-11</td>\n      <td>1.00</td>\n      <td>213</td>\n      <td>0.193548</td>\n      <td>330.00</td>\n    </tr>\n  </tbody>\n</table>\n<p>5899 rows × 16 columns</p>\n</div>"
     },
     "metadata": {},
     "execution_count": 6
    }
   ],
   "source": [
    "data"
   ]
  },
  {
   "source": [
    "## A simple plot with Altair"
   ],
   "cell_type": "markdown",
   "metadata": {}
  },
  {
   "cell_type": "code",
   "execution_count": 7,
   "metadata": {},
   "outputs": [],
   "source": [
    "chart = alt.Chart(data)"
   ]
  },
  {
   "cell_type": "code",
   "execution_count": 8,
   "metadata": {},
   "outputs": [
    {
     "output_type": "execute_result",
     "data": {
      "text/html": "\n<div id=\"altair-viz-f8c36819170446e1ab902c6b4540b13d\"></div>\n<script type=\"text/javascript\">\n  (function(spec, embedOpt){\n    let outputDiv = document.currentScript.previousElementSibling;\n    if (outputDiv.id !== \"altair-viz-f8c36819170446e1ab902c6b4540b13d\") {\n      outputDiv = document.getElementById(\"altair-viz-f8c36819170446e1ab902c6b4540b13d\");\n    }\n    const paths = {\n      \"vega\": \"https://cdn.jsdelivr.net/npm//vega@5?noext\",\n      \"vega-lib\": \"https://cdn.jsdelivr.net/npm//vega-lib?noext\",\n      \"vega-lite\": \"https://cdn.jsdelivr.net/npm//vega-lite@4.8.1?noext\",\n      \"vega-embed\": \"https://cdn.jsdelivr.net/npm//vega-embed@6?noext\",\n    };\n\n    function loadScript(lib) {\n      return new Promise(function(resolve, reject) {\n        var s = document.createElement('script');\n        s.src = paths[lib];\n        s.async = true;\n        s.onload = () => resolve(paths[lib]);\n        s.onerror = () => reject(`Error loading script: ${paths[lib]}`);\n        document.getElementsByTagName(\"head\")[0].appendChild(s);\n      });\n    }\n\n    function showError(err) {\n      outputDiv.innerHTML = `<div class=\"error\" style=\"color:red;\">${err}</div>`;\n      throw err;\n    }\n\n    function displayChart(vegaEmbed) {\n      vegaEmbed(outputDiv, spec, embedOpt)\n        .catch(err => showError(`Javascript Error: ${err.message}<br>This usually means there's a typo in your chart specification. See the javascript console for the full traceback.`));\n    }\n\n    if(typeof define === \"function\" && define.amd) {\n      requirejs.config({paths});\n      require([\"vega-embed\"], displayChart, err => showError(`Error loading script: ${err.message}`));\n    } else if (typeof vegaEmbed === \"function\") {\n      displayChart(vegaEmbed);\n    } else {\n      loadScript(\"vega\")\n        .then(() => loadScript(\"vega-lite\"))\n        .then(() => loadScript(\"vega-embed\"))\n        .catch(showError)\n        .then(() => displayChart(vegaEmbed));\n    }\n  })({\"config\": {\"view\": {\"continuousWidth\": 400, \"continuousHeight\": 300}}, \"data\": {\"url\": \"altair-data-61cbc761dfa30e9221bc6498f1fd9b73.json\", \"format\": {\"type\": \"json\"}}, \"mark\": \"point\", \"encoding\": {\"x\": {\"type\": \"quantitative\", \"field\": \"occupancy_rate\"}, \"y\": {\"type\": \"quantitative\", \"field\": \"monthly_rental_income\"}}, \"$schema\": \"https://vega.github.io/schema/vega-lite/v4.8.1.json\"}, {\"mode\": \"vega-lite\"});\n</script>",
      "text/plain": [
       "alt.Chart(...)"
      ]
     },
     "metadata": {},
     "execution_count": 8
    }
   ],
   "source": [
    "chart.mark_point().encode(\n",
    "    x = 'occupancy_rate',\n",
    "    y = 'monthly_rental_income'\n",
    ")"
   ]
  },
  {
   "cell_type": "code",
   "execution_count": 9,
   "metadata": {},
   "outputs": [
    {
     "output_type": "execute_result",
     "data": {
      "text/html": "\n<div id=\"altair-viz-3fa049ca59934e36bc6083555f964a41\"></div>\n<script type=\"text/javascript\">\n  (function(spec, embedOpt){\n    let outputDiv = document.currentScript.previousElementSibling;\n    if (outputDiv.id !== \"altair-viz-3fa049ca59934e36bc6083555f964a41\") {\n      outputDiv = document.getElementById(\"altair-viz-3fa049ca59934e36bc6083555f964a41\");\n    }\n    const paths = {\n      \"vega\": \"https://cdn.jsdelivr.net/npm//vega@5?noext\",\n      \"vega-lib\": \"https://cdn.jsdelivr.net/npm//vega-lib?noext\",\n      \"vega-lite\": \"https://cdn.jsdelivr.net/npm//vega-lite@4.8.1?noext\",\n      \"vega-embed\": \"https://cdn.jsdelivr.net/npm//vega-embed@6?noext\",\n    };\n\n    function loadScript(lib) {\n      return new Promise(function(resolve, reject) {\n        var s = document.createElement('script');\n        s.src = paths[lib];\n        s.async = true;\n        s.onload = () => resolve(paths[lib]);\n        s.onerror = () => reject(`Error loading script: ${paths[lib]}`);\n        document.getElementsByTagName(\"head\")[0].appendChild(s);\n      });\n    }\n\n    function showError(err) {\n      outputDiv.innerHTML = `<div class=\"error\" style=\"color:red;\">${err}</div>`;\n      throw err;\n    }\n\n    function displayChart(vegaEmbed) {\n      vegaEmbed(outputDiv, spec, embedOpt)\n        .catch(err => showError(`Javascript Error: ${err.message}<br>This usually means there's a typo in your chart specification. See the javascript console for the full traceback.`));\n    }\n\n    if(typeof define === \"function\" && define.amd) {\n      requirejs.config({paths});\n      require([\"vega-embed\"], displayChart, err => showError(`Error loading script: ${err.message}`));\n    } else if (typeof vegaEmbed === \"function\") {\n      displayChart(vegaEmbed);\n    } else {\n      loadScript(\"vega\")\n        .then(() => loadScript(\"vega-lite\"))\n        .then(() => loadScript(\"vega-embed\"))\n        .catch(showError)\n        .then(() => displayChart(vegaEmbed));\n    }\n  })({\"config\": {\"view\": {\"continuousWidth\": 400, \"continuousHeight\": 300}}, \"data\": {\"url\": \"altair-data-61cbc761dfa30e9221bc6498f1fd9b73.json\", \"format\": {\"type\": \"json\"}}, \"mark\": \"point\", \"encoding\": {\"color\": {\"type\": \"nominal\", \"field\": \"room_type\"}, \"x\": {\"type\": \"quantitative\", \"field\": \"occupancy_rate\"}, \"y\": {\"type\": \"quantitative\", \"field\": \"monthly_rental_income\"}}, \"$schema\": \"https://vega.github.io/schema/vega-lite/v4.8.1.json\"}, {\"mode\": \"vega-lite\"});\n</script>",
      "text/plain": [
       "alt.Chart(...)"
      ]
     },
     "metadata": {},
     "execution_count": 9
    }
   ],
   "source": [
    "chart.mark_point().encode(x = 'occupancy_rate', y = 'monthly_rental_income', color = 'room_type')"
   ]
  },
  {
   "source": [
    "## Aggregation in Altair"
   ],
   "cell_type": "markdown",
   "metadata": {}
  },
  {
   "cell_type": "code",
   "execution_count": 10,
   "metadata": {},
   "outputs": [
    {
     "output_type": "execute_result",
     "data": {
      "text/html": "\n<div id=\"altair-viz-64cc64af5f514c3e9bedadf6a0e156e8\"></div>\n<script type=\"text/javascript\">\n  (function(spec, embedOpt){\n    let outputDiv = document.currentScript.previousElementSibling;\n    if (outputDiv.id !== \"altair-viz-64cc64af5f514c3e9bedadf6a0e156e8\") {\n      outputDiv = document.getElementById(\"altair-viz-64cc64af5f514c3e9bedadf6a0e156e8\");\n    }\n    const paths = {\n      \"vega\": \"https://cdn.jsdelivr.net/npm//vega@5?noext\",\n      \"vega-lib\": \"https://cdn.jsdelivr.net/npm//vega-lib?noext\",\n      \"vega-lite\": \"https://cdn.jsdelivr.net/npm//vega-lite@4.8.1?noext\",\n      \"vega-embed\": \"https://cdn.jsdelivr.net/npm//vega-embed@6?noext\",\n    };\n\n    function loadScript(lib) {\n      return new Promise(function(resolve, reject) {\n        var s = document.createElement('script');\n        s.src = paths[lib];\n        s.async = true;\n        s.onload = () => resolve(paths[lib]);\n        s.onerror = () => reject(`Error loading script: ${paths[lib]}`);\n        document.getElementsByTagName(\"head\")[0].appendChild(s);\n      });\n    }\n\n    function showError(err) {\n      outputDiv.innerHTML = `<div class=\"error\" style=\"color:red;\">${err}</div>`;\n      throw err;\n    }\n\n    function displayChart(vegaEmbed) {\n      vegaEmbed(outputDiv, spec, embedOpt)\n        .catch(err => showError(`Javascript Error: ${err.message}<br>This usually means there's a typo in your chart specification. See the javascript console for the full traceback.`));\n    }\n\n    if(typeof define === \"function\" && define.amd) {\n      requirejs.config({paths});\n      require([\"vega-embed\"], displayChart, err => showError(`Error loading script: ${err.message}`));\n    } else if (typeof vegaEmbed === \"function\") {\n      displayChart(vegaEmbed);\n    } else {\n      loadScript(\"vega\")\n        .then(() => loadScript(\"vega-lite\"))\n        .then(() => loadScript(\"vega-embed\"))\n        .catch(showError)\n        .then(() => displayChart(vegaEmbed));\n    }\n  })({\"config\": {\"view\": {\"continuousWidth\": 400, \"continuousHeight\": 300}}, \"data\": {\"url\": \"altair-data-61cbc761dfa30e9221bc6498f1fd9b73.json\", \"format\": {\"type\": \"json\"}}, \"mark\": \"bar\", \"encoding\": {\"x\": {\"type\": \"nominal\", \"field\": \"neighbourhood\"}, \"y\": {\"type\": \"quantitative\", \"aggregate\": \"mean\", \"field\": \"occupancy_rate\"}}, \"$schema\": \"https://vega.github.io/schema/vega-lite/v4.8.1.json\"}, {\"mode\": \"vega-lite\"});\n</script>",
      "text/plain": [
       "alt.Chart(...)"
      ]
     },
     "metadata": {},
     "execution_count": 10
    }
   ],
   "source": [
    "chart.mark_bar().encode(x = 'neighbourhood', y = 'mean(occupancy_rate)')"
   ]
  },
  {
   "cell_type": "code",
   "execution_count": 11,
   "metadata": {},
   "outputs": [
    {
     "output_type": "execute_result",
     "data": {
      "text/html": "\n<div id=\"altair-viz-de724eab838e4bd0ab139124705c5f15\"></div>\n<script type=\"text/javascript\">\n  (function(spec, embedOpt){\n    let outputDiv = document.currentScript.previousElementSibling;\n    if (outputDiv.id !== \"altair-viz-de724eab838e4bd0ab139124705c5f15\") {\n      outputDiv = document.getElementById(\"altair-viz-de724eab838e4bd0ab139124705c5f15\");\n    }\n    const paths = {\n      \"vega\": \"https://cdn.jsdelivr.net/npm//vega@5?noext\",\n      \"vega-lib\": \"https://cdn.jsdelivr.net/npm//vega-lib?noext\",\n      \"vega-lite\": \"https://cdn.jsdelivr.net/npm//vega-lite@4.8.1?noext\",\n      \"vega-embed\": \"https://cdn.jsdelivr.net/npm//vega-embed@6?noext\",\n    };\n\n    function loadScript(lib) {\n      return new Promise(function(resolve, reject) {\n        var s = document.createElement('script');\n        s.src = paths[lib];\n        s.async = true;\n        s.onload = () => resolve(paths[lib]);\n        s.onerror = () => reject(`Error loading script: ${paths[lib]}`);\n        document.getElementsByTagName(\"head\")[0].appendChild(s);\n      });\n    }\n\n    function showError(err) {\n      outputDiv.innerHTML = `<div class=\"error\" style=\"color:red;\">${err}</div>`;\n      throw err;\n    }\n\n    function displayChart(vegaEmbed) {\n      vegaEmbed(outputDiv, spec, embedOpt)\n        .catch(err => showError(`Javascript Error: ${err.message}<br>This usually means there's a typo in your chart specification. See the javascript console for the full traceback.`));\n    }\n\n    if(typeof define === \"function\" && define.amd) {\n      requirejs.config({paths});\n      require([\"vega-embed\"], displayChart, err => showError(`Error loading script: ${err.message}`));\n    } else if (typeof vegaEmbed === \"function\") {\n      displayChart(vegaEmbed);\n    } else {\n      loadScript(\"vega\")\n        .then(() => loadScript(\"vega-lite\"))\n        .then(() => loadScript(\"vega-embed\"))\n        .catch(showError)\n        .then(() => displayChart(vegaEmbed));\n    }\n  })({\"config\": {\"view\": {\"continuousWidth\": 400, \"continuousHeight\": 300}}, \"data\": {\"url\": \"altair-data-653fe2450dd30fb7adf26b7be15dca86.json\", \"format\": {\"type\": \"json\"}}, \"mark\": \"bar\", \"encoding\": {\"x\": {\"type\": \"nominal\", \"field\": \"neighbourhood\"}, \"y\": {\"type\": \"quantitative\", \"field\": \"mean\"}}, \"$schema\": \"https://vega.github.io/schema/vega-lite/v4.8.1.json\"}, {\"mode\": \"vega-lite\"});\n</script>",
      "text/plain": [
       "alt.Chart(...)"
      ]
     },
     "metadata": {},
     "execution_count": 11
    }
   ],
   "source": [
    "alt.Chart(data.groupby('neighbourhood')['occupancy_rate'].agg(['mean']).reset_index()).mark_bar().encode(x = 'neighbourhood', y = 'mean')"
   ]
  },
  {
   "source": [
    "## Sorting and long-hand syntax"
   ],
   "cell_type": "markdown",
   "metadata": {}
  },
  {
   "cell_type": "code",
   "execution_count": 12,
   "metadata": {},
   "outputs": [
    {
     "output_type": "execute_result",
     "data": {
      "text/html": "\n<div id=\"altair-viz-8540a3da72534063bbf8d70bf5d982c6\"></div>\n<script type=\"text/javascript\">\n  (function(spec, embedOpt){\n    let outputDiv = document.currentScript.previousElementSibling;\n    if (outputDiv.id !== \"altair-viz-8540a3da72534063bbf8d70bf5d982c6\") {\n      outputDiv = document.getElementById(\"altair-viz-8540a3da72534063bbf8d70bf5d982c6\");\n    }\n    const paths = {\n      \"vega\": \"https://cdn.jsdelivr.net/npm//vega@5?noext\",\n      \"vega-lib\": \"https://cdn.jsdelivr.net/npm//vega-lib?noext\",\n      \"vega-lite\": \"https://cdn.jsdelivr.net/npm//vega-lite@4.8.1?noext\",\n      \"vega-embed\": \"https://cdn.jsdelivr.net/npm//vega-embed@6?noext\",\n    };\n\n    function loadScript(lib) {\n      return new Promise(function(resolve, reject) {\n        var s = document.createElement('script');\n        s.src = paths[lib];\n        s.async = true;\n        s.onload = () => resolve(paths[lib]);\n        s.onerror = () => reject(`Error loading script: ${paths[lib]}`);\n        document.getElementsByTagName(\"head\")[0].appendChild(s);\n      });\n    }\n\n    function showError(err) {\n      outputDiv.innerHTML = `<div class=\"error\" style=\"color:red;\">${err}</div>`;\n      throw err;\n    }\n\n    function displayChart(vegaEmbed) {\n      vegaEmbed(outputDiv, spec, embedOpt)\n        .catch(err => showError(`Javascript Error: ${err.message}<br>This usually means there's a typo in your chart specification. See the javascript console for the full traceback.`));\n    }\n\n    if(typeof define === \"function\" && define.amd) {\n      requirejs.config({paths});\n      require([\"vega-embed\"], displayChart, err => showError(`Error loading script: ${err.message}`));\n    } else if (typeof vegaEmbed === \"function\") {\n      displayChart(vegaEmbed);\n    } else {\n      loadScript(\"vega\")\n        .then(() => loadScript(\"vega-lite\"))\n        .then(() => loadScript(\"vega-embed\"))\n        .catch(showError)\n        .then(() => displayChart(vegaEmbed));\n    }\n  })({\"config\": {\"view\": {\"continuousWidth\": 400, \"continuousHeight\": 300}}, \"data\": {\"url\": \"altair-data-61cbc761dfa30e9221bc6498f1fd9b73.json\", \"format\": {\"type\": \"json\"}}, \"mark\": \"bar\", \"encoding\": {\"x\": {\"type\": \"nominal\", \"field\": \"neighbourhood\", \"sort\": \"-y\"}, \"y\": {\"type\": \"quantitative\", \"aggregate\": \"mean\", \"field\": \"occupancy_rate\"}}, \"$schema\": \"https://vega.github.io/schema/vega-lite/v4.8.1.json\"}, {\"mode\": \"vega-lite\"});\n</script>",
      "text/plain": [
       "alt.Chart(...)"
      ]
     },
     "metadata": {},
     "execution_count": 12
    }
   ],
   "source": [
    "chart.mark_bar().encode(x = alt.X('neighbourhood', sort = 'descending'), y = 'mean(occupancy_rate)')\n",
    "chart.mark_bar().encode(x = alt.X('neighbourhood', sort = '-y'), y = 'mean(occupancy_rate)')"
   ]
  },
  {
   "cell_type": "code",
   "execution_count": 13,
   "metadata": {},
   "outputs": [
    {
     "output_type": "execute_result",
     "data": {
      "text/html": "\n<div id=\"altair-viz-587eb3941d6a44caa4e43acbbb2bd993\"></div>\n<script type=\"text/javascript\">\n  (function(spec, embedOpt){\n    let outputDiv = document.currentScript.previousElementSibling;\n    if (outputDiv.id !== \"altair-viz-587eb3941d6a44caa4e43acbbb2bd993\") {\n      outputDiv = document.getElementById(\"altair-viz-587eb3941d6a44caa4e43acbbb2bd993\");\n    }\n    const paths = {\n      \"vega\": \"https://cdn.jsdelivr.net/npm//vega@5?noext\",\n      \"vega-lib\": \"https://cdn.jsdelivr.net/npm//vega-lib?noext\",\n      \"vega-lite\": \"https://cdn.jsdelivr.net/npm//vega-lite@4.8.1?noext\",\n      \"vega-embed\": \"https://cdn.jsdelivr.net/npm//vega-embed@6?noext\",\n    };\n\n    function loadScript(lib) {\n      return new Promise(function(resolve, reject) {\n        var s = document.createElement('script');\n        s.src = paths[lib];\n        s.async = true;\n        s.onload = () => resolve(paths[lib]);\n        s.onerror = () => reject(`Error loading script: ${paths[lib]}`);\n        document.getElementsByTagName(\"head\")[0].appendChild(s);\n      });\n    }\n\n    function showError(err) {\n      outputDiv.innerHTML = `<div class=\"error\" style=\"color:red;\">${err}</div>`;\n      throw err;\n    }\n\n    function displayChart(vegaEmbed) {\n      vegaEmbed(outputDiv, spec, embedOpt)\n        .catch(err => showError(`Javascript Error: ${err.message}<br>This usually means there's a typo in your chart specification. See the javascript console for the full traceback.`));\n    }\n\n    if(typeof define === \"function\" && define.amd) {\n      requirejs.config({paths});\n      require([\"vega-embed\"], displayChart, err => showError(`Error loading script: ${err.message}`));\n    } else if (typeof vegaEmbed === \"function\") {\n      displayChart(vegaEmbed);\n    } else {\n      loadScript(\"vega\")\n        .then(() => loadScript(\"vega-lite\"))\n        .then(() => loadScript(\"vega-embed\"))\n        .catch(showError)\n        .then(() => displayChart(vegaEmbed));\n    }\n  })({\"config\": {\"view\": {\"continuousWidth\": 400, \"continuousHeight\": 300}}, \"data\": {\"url\": \"altair-data-61cbc761dfa30e9221bc6498f1fd9b73.json\", \"format\": {\"type\": \"json\"}}, \"mark\": \"bar\", \"encoding\": {\"tooltip\": [{\"type\": \"nominal\", \"field\": \"neighbourhood\"}, {\"type\": \"quantitative\", \"aggregate\": \"mean\", \"field\": \"monthly_rental_income\"}, {\"type\": \"quantitative\", \"aggregate\": \"count\"}], \"x\": {\"type\": \"nominal\", \"field\": \"neighbourhood\", \"sort\": \"-y\"}, \"y\": {\"type\": \"quantitative\", \"aggregate\": \"mean\", \"field\": \"monthly_rental_income\"}}, \"$schema\": \"https://vega.github.io/schema/vega-lite/v4.8.1.json\"}, {\"mode\": \"vega-lite\"});\n</script>",
      "text/plain": [
       "alt.Chart(...)"
      ]
     },
     "metadata": {},
     "execution_count": 13
    }
   ],
   "source": [
    "chart.mark_bar().encode(x = alt.X('neighbourhood', sort = '-y'), y = 'mean(monthly_rental_income)', tooltip=['neighbourhood', 'mean(monthly_rental_income)', 'count()'])"
   ]
  },
  {
   "source": [
    "## Facets"
   ],
   "cell_type": "markdown",
   "metadata": {}
  },
  {
   "cell_type": "code",
   "execution_count": 14,
   "metadata": {},
   "outputs": [
    {
     "output_type": "execute_result",
     "data": {
      "text/html": "\n<div id=\"altair-viz-35b73053bc094d249e6a68f6e5f6371d\"></div>\n<script type=\"text/javascript\">\n  (function(spec, embedOpt){\n    let outputDiv = document.currentScript.previousElementSibling;\n    if (outputDiv.id !== \"altair-viz-35b73053bc094d249e6a68f6e5f6371d\") {\n      outputDiv = document.getElementById(\"altair-viz-35b73053bc094d249e6a68f6e5f6371d\");\n    }\n    const paths = {\n      \"vega\": \"https://cdn.jsdelivr.net/npm//vega@5?noext\",\n      \"vega-lib\": \"https://cdn.jsdelivr.net/npm//vega-lib?noext\",\n      \"vega-lite\": \"https://cdn.jsdelivr.net/npm//vega-lite@4.8.1?noext\",\n      \"vega-embed\": \"https://cdn.jsdelivr.net/npm//vega-embed@6?noext\",\n    };\n\n    function loadScript(lib) {\n      return new Promise(function(resolve, reject) {\n        var s = document.createElement('script');\n        s.src = paths[lib];\n        s.async = true;\n        s.onload = () => resolve(paths[lib]);\n        s.onerror = () => reject(`Error loading script: ${paths[lib]}`);\n        document.getElementsByTagName(\"head\")[0].appendChild(s);\n      });\n    }\n\n    function showError(err) {\n      outputDiv.innerHTML = `<div class=\"error\" style=\"color:red;\">${err}</div>`;\n      throw err;\n    }\n\n    function displayChart(vegaEmbed) {\n      vegaEmbed(outputDiv, spec, embedOpt)\n        .catch(err => showError(`Javascript Error: ${err.message}<br>This usually means there's a typo in your chart specification. See the javascript console for the full traceback.`));\n    }\n\n    if(typeof define === \"function\" && define.amd) {\n      requirejs.config({paths});\n      require([\"vega-embed\"], displayChart, err => showError(`Error loading script: ${err.message}`));\n    } else if (typeof vegaEmbed === \"function\") {\n      displayChart(vegaEmbed);\n    } else {\n      loadScript(\"vega\")\n        .then(() => loadScript(\"vega-lite\"))\n        .then(() => loadScript(\"vega-embed\"))\n        .catch(showError)\n        .then(() => displayChart(vegaEmbed));\n    }\n  })({\"config\": {\"view\": {\"continuousWidth\": 400, \"continuousHeight\": 300}}, \"data\": {\"url\": \"altair-data-61cbc761dfa30e9221bc6498f1fd9b73.json\", \"format\": {\"type\": \"json\"}}, \"facet\": {\"type\": \"nominal\", \"field\": \"neighbourhood\"}, \"spec\": {\"mark\": \"bar\", \"encoding\": {\"x\": {\"type\": \"quantitative\", \"bin\": true, \"field\": \"occupancy_rate\"}, \"y\": {\"type\": \"quantitative\", \"aggregate\": \"count\"}}}, \"columns\": 3, \"$schema\": \"https://vega.github.io/schema/vega-lite/v4.8.1.json\"}, {\"mode\": \"vega-lite\"});\n</script>",
      "text/plain": [
       "alt.FacetChart(...)"
      ]
     },
     "metadata": {},
     "execution_count": 14
    }
   ],
   "source": [
    "chart.mark_bar().encode(x = alt.X('occupancy_rate', bin = True), y = 'count()').facet(facet = 'neighbourhood', columns = 3)"
   ]
  },
  {
   "cell_type": "code",
   "execution_count": 15,
   "metadata": {},
   "outputs": [
    {
     "output_type": "execute_result",
     "data": {
      "text/html": "\n<div id=\"altair-viz-ed8af93eb45041878b2f05f0f072b591\"></div>\n<script type=\"text/javascript\">\n  (function(spec, embedOpt){\n    let outputDiv = document.currentScript.previousElementSibling;\n    if (outputDiv.id !== \"altair-viz-ed8af93eb45041878b2f05f0f072b591\") {\n      outputDiv = document.getElementById(\"altair-viz-ed8af93eb45041878b2f05f0f072b591\");\n    }\n    const paths = {\n      \"vega\": \"https://cdn.jsdelivr.net/npm//vega@5?noext\",\n      \"vega-lib\": \"https://cdn.jsdelivr.net/npm//vega-lib?noext\",\n      \"vega-lite\": \"https://cdn.jsdelivr.net/npm//vega-lite@4.8.1?noext\",\n      \"vega-embed\": \"https://cdn.jsdelivr.net/npm//vega-embed@6?noext\",\n    };\n\n    function loadScript(lib) {\n      return new Promise(function(resolve, reject) {\n        var s = document.createElement('script');\n        s.src = paths[lib];\n        s.async = true;\n        s.onload = () => resolve(paths[lib]);\n        s.onerror = () => reject(`Error loading script: ${paths[lib]}`);\n        document.getElementsByTagName(\"head\")[0].appendChild(s);\n      });\n    }\n\n    function showError(err) {\n      outputDiv.innerHTML = `<div class=\"error\" style=\"color:red;\">${err}</div>`;\n      throw err;\n    }\n\n    function displayChart(vegaEmbed) {\n      vegaEmbed(outputDiv, spec, embedOpt)\n        .catch(err => showError(`Javascript Error: ${err.message}<br>This usually means there's a typo in your chart specification. See the javascript console for the full traceback.`));\n    }\n\n    if(typeof define === \"function\" && define.amd) {\n      requirejs.config({paths});\n      require([\"vega-embed\"], displayChart, err => showError(`Error loading script: ${err.message}`));\n    } else if (typeof vegaEmbed === \"function\") {\n      displayChart(vegaEmbed);\n    } else {\n      loadScript(\"vega\")\n        .then(() => loadScript(\"vega-lite\"))\n        .then(() => loadScript(\"vega-embed\"))\n        .catch(showError)\n        .then(() => displayChart(vegaEmbed));\n    }\n  })({\"config\": {\"view\": {\"continuousWidth\": 400, \"continuousHeight\": 300}}, \"data\": {\"url\": \"altair-data-61cbc761dfa30e9221bc6498f1fd9b73.json\", \"format\": {\"type\": \"json\"}}, \"facet\": {\"type\": \"nominal\", \"field\": \"neighbourhood\"}, \"spec\": {\"mark\": \"bar\", \"encoding\": {\"x\": {\"type\": \"quantitative\", \"bin\": true, \"field\": \"occupancy_rate\"}, \"y\": {\"type\": \"quantitative\", \"aggregate\": \"count\"}}}, \"columns\": 3, \"resolve\": {\"scale\": {\"y\": \"independent\"}}, \"$schema\": \"https://vega.github.io/schema/vega-lite/v4.8.1.json\"}, {\"mode\": \"vega-lite\"});\n</script>",
      "text/plain": [
       "alt.FacetChart(...)"
      ]
     },
     "metadata": {},
     "execution_count": 15
    }
   ],
   "source": [
    "chart.mark_bar().encode(x = alt.X('occupancy_rate', bin = True), y = 'count()').facet(facet = 'neighbourhood', columns = 3).resolve_scale(y='independent')"
   ]
  }
 ]
}