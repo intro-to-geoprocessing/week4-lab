{
 "metadata": {
  "language_info": {
   "codemirror_mode": {
    "name": "ipython",
    "version": 3
   },
   "file_extension": ".py",
   "mimetype": "text/x-python",
   "name": "python",
   "nbconvert_exporter": "python",
   "pygments_lexer": "ipython3",
   "version": "3.8.3-final"
  },
  "orig_nbformat": 2,
  "kernelspec": {
   "name": "Python 3.8.3 64-bit",
   "display_name": "Python 3.8.3 64-bit",
   "metadata": {
    "interpreter": {
     "hash": "829a9837daddd774d56149a7d61b80e7bb5a08758cc11c17634f78dd1e194399"
    }
   }
  }
 },
 "nbformat": 4,
 "nbformat_minor": 2,
 "cells": [
  {
   "source": [
    "# Importing and manipulating data with Pandas\n",
    "An initial analysis of AirBnB listings in Brussels."
   ],
   "cell_type": "markdown",
   "metadata": {}
  },
  {
   "cell_type": "code",
   "execution_count": 1,
   "metadata": {
    "tags": []
   },
   "outputs": [],
   "source": [
    "# this cell contains our library imports\n",
    "import pandas as pd\n",
    "import altair as alt"
   ]
  },
  {
   "cell_type": "code",
   "execution_count": 2,
   "metadata": {},
   "outputs": [],
   "source": [
    "data = pd.read_csv('listings_brussels_20190813.csv')"
   ]
  },
  {
   "cell_type": "code",
   "execution_count": 3,
   "metadata": {},
   "outputs": [
    {
     "output_type": "execute_result",
     "data": {
      "text/plain": [
       "            id                                               name    host_id  \\\n",
       "0         2352  Triplex-2chmbrs,grande sdb,terrasse= tous confort       2582   \n",
       "1         2354                COURT/Long- 1chmb+1salon+sdd+terras       2582   \n",
       "2        42521  Ixelles: spacious bedroom+boudoir+ensuite bath...     185699   \n",
       "3        45145                       B&B Welcome to my place -  2     199370   \n",
       "4        48180                Top Apart/location 0 default 2rooms     219560   \n",
       "...        ...                                                ...        ...   \n",
       "8923  37706551                    Cozy apartment with big terrace   96121923   \n",
       "8924  37706974     Appartement 2 chambres à Forest  gare  du midi   24444714   \n",
       "8925  37707368             Bright Duplex close to EU Institutions   18722558   \n",
       "8926  37710276    Nice room in a beautiful appartement BRU CENTER  234800974   \n",
       "8927  37712866                              Lovely Midi Apartment  234854287   \n",
       "\n",
       "     host_name          neighbourhood  latitude  longitude        room_type  \\\n",
       "0          Oda   Molenbeek-Saint-Jean  50.85787    4.30809  Entire home/apt   \n",
       "1          Oda   Molenbeek-Saint-Jean  50.85697    4.30651  Entire home/apt   \n",
       "2       Claire                Ixelles  50.81929    4.38790     Private room   \n",
       "3        Erick  Saint-Josse-ten-Noode  50.85300    4.36971     Private room   \n",
       "4        Ahmet    Woluwe-Saint-Pierre  50.83821    4.40683  Entire home/apt   \n",
       "...        ...                    ...       ...        ...              ...   \n",
       "8923     Jenny                 Forest  50.81366    4.32155  Entire home/apt   \n",
       "8924    Cedric                 Forest  50.81784    4.32686  Entire home/apt   \n",
       "8925  Fernando  Saint-Josse-ten-Noode  50.84860    4.37296  Entire home/apt   \n",
       "8926    Hicham              Bruxelles  50.85365    4.35426     Private room   \n",
       "8927     Hamza              Bruxelles  50.83736    4.34229  Entire home/apt   \n",
       "\n",
       "      price  minimum_nights  number_of_reviews last_review  reviews_per_month  \\\n",
       "0        93               2                 15  2018-12-31               0.23   \n",
       "1        78               2                  2  2018-10-28               0.05   \n",
       "2        45               2                130  2019-07-28               1.19   \n",
       "3        70               2                  3  2019-04-08               0.03   \n",
       "4       200               2                  0         NaN                NaN   \n",
       "...     ...             ...                ...         ...                ...   \n",
       "8923    100               3                  0         NaN                NaN   \n",
       "8924     84               3                  0         NaN                NaN   \n",
       "8925     49               4                  0         NaN                NaN   \n",
       "8926     45               2                  0         NaN                NaN   \n",
       "8927    102               1                  0         NaN                NaN   \n",
       "\n",
       "      availability_365  \n",
       "0                  229  \n",
       "1                  340  \n",
       "2                  283  \n",
       "3                  190  \n",
       "4                  365  \n",
       "...                ...  \n",
       "8923                59  \n",
       "8924               362  \n",
       "8925                18  \n",
       "8926                74  \n",
       "8927               364  \n",
       "\n",
       "[8928 rows x 14 columns]"
      ],
      "text/html": "<div>\n<style scoped>\n    .dataframe tbody tr th:only-of-type {\n        vertical-align: middle;\n    }\n\n    .dataframe tbody tr th {\n        vertical-align: top;\n    }\n\n    .dataframe thead th {\n        text-align: right;\n    }\n</style>\n<table border=\"1\" class=\"dataframe\">\n  <thead>\n    <tr style=\"text-align: right;\">\n      <th></th>\n      <th>id</th>\n      <th>name</th>\n      <th>host_id</th>\n      <th>host_name</th>\n      <th>neighbourhood</th>\n      <th>latitude</th>\n      <th>longitude</th>\n      <th>room_type</th>\n      <th>price</th>\n      <th>minimum_nights</th>\n      <th>number_of_reviews</th>\n      <th>last_review</th>\n      <th>reviews_per_month</th>\n      <th>availability_365</th>\n    </tr>\n  </thead>\n  <tbody>\n    <tr>\n      <th>0</th>\n      <td>2352</td>\n      <td>Triplex-2chmbrs,grande sdb,terrasse= tous confort</td>\n      <td>2582</td>\n      <td>Oda</td>\n      <td>Molenbeek-Saint-Jean</td>\n      <td>50.85787</td>\n      <td>4.30809</td>\n      <td>Entire home/apt</td>\n      <td>93</td>\n      <td>2</td>\n      <td>15</td>\n      <td>2018-12-31</td>\n      <td>0.23</td>\n      <td>229</td>\n    </tr>\n    <tr>\n      <th>1</th>\n      <td>2354</td>\n      <td>COURT/Long- 1chmb+1salon+sdd+terras</td>\n      <td>2582</td>\n      <td>Oda</td>\n      <td>Molenbeek-Saint-Jean</td>\n      <td>50.85697</td>\n      <td>4.30651</td>\n      <td>Entire home/apt</td>\n      <td>78</td>\n      <td>2</td>\n      <td>2</td>\n      <td>2018-10-28</td>\n      <td>0.05</td>\n      <td>340</td>\n    </tr>\n    <tr>\n      <th>2</th>\n      <td>42521</td>\n      <td>Ixelles: spacious bedroom+boudoir+ensuite bath...</td>\n      <td>185699</td>\n      <td>Claire</td>\n      <td>Ixelles</td>\n      <td>50.81929</td>\n      <td>4.38790</td>\n      <td>Private room</td>\n      <td>45</td>\n      <td>2</td>\n      <td>130</td>\n      <td>2019-07-28</td>\n      <td>1.19</td>\n      <td>283</td>\n    </tr>\n    <tr>\n      <th>3</th>\n      <td>45145</td>\n      <td>B&amp;B Welcome to my place -  2</td>\n      <td>199370</td>\n      <td>Erick</td>\n      <td>Saint-Josse-ten-Noode</td>\n      <td>50.85300</td>\n      <td>4.36971</td>\n      <td>Private room</td>\n      <td>70</td>\n      <td>2</td>\n      <td>3</td>\n      <td>2019-04-08</td>\n      <td>0.03</td>\n      <td>190</td>\n    </tr>\n    <tr>\n      <th>4</th>\n      <td>48180</td>\n      <td>Top Apart/location 0 default 2rooms</td>\n      <td>219560</td>\n      <td>Ahmet</td>\n      <td>Woluwe-Saint-Pierre</td>\n      <td>50.83821</td>\n      <td>4.40683</td>\n      <td>Entire home/apt</td>\n      <td>200</td>\n      <td>2</td>\n      <td>0</td>\n      <td>NaN</td>\n      <td>NaN</td>\n      <td>365</td>\n    </tr>\n    <tr>\n      <th>...</th>\n      <td>...</td>\n      <td>...</td>\n      <td>...</td>\n      <td>...</td>\n      <td>...</td>\n      <td>...</td>\n      <td>...</td>\n      <td>...</td>\n      <td>...</td>\n      <td>...</td>\n      <td>...</td>\n      <td>...</td>\n      <td>...</td>\n      <td>...</td>\n    </tr>\n    <tr>\n      <th>8923</th>\n      <td>37706551</td>\n      <td>Cozy apartment with big terrace</td>\n      <td>96121923</td>\n      <td>Jenny</td>\n      <td>Forest</td>\n      <td>50.81366</td>\n      <td>4.32155</td>\n      <td>Entire home/apt</td>\n      <td>100</td>\n      <td>3</td>\n      <td>0</td>\n      <td>NaN</td>\n      <td>NaN</td>\n      <td>59</td>\n    </tr>\n    <tr>\n      <th>8924</th>\n      <td>37706974</td>\n      <td>Appartement 2 chambres à Forest  gare  du midi</td>\n      <td>24444714</td>\n      <td>Cedric</td>\n      <td>Forest</td>\n      <td>50.81784</td>\n      <td>4.32686</td>\n      <td>Entire home/apt</td>\n      <td>84</td>\n      <td>3</td>\n      <td>0</td>\n      <td>NaN</td>\n      <td>NaN</td>\n      <td>362</td>\n    </tr>\n    <tr>\n      <th>8925</th>\n      <td>37707368</td>\n      <td>Bright Duplex close to EU Institutions</td>\n      <td>18722558</td>\n      <td>Fernando</td>\n      <td>Saint-Josse-ten-Noode</td>\n      <td>50.84860</td>\n      <td>4.37296</td>\n      <td>Entire home/apt</td>\n      <td>49</td>\n      <td>4</td>\n      <td>0</td>\n      <td>NaN</td>\n      <td>NaN</td>\n      <td>18</td>\n    </tr>\n    <tr>\n      <th>8926</th>\n      <td>37710276</td>\n      <td>Nice room in a beautiful appartement BRU CENTER</td>\n      <td>234800974</td>\n      <td>Hicham</td>\n      <td>Bruxelles</td>\n      <td>50.85365</td>\n      <td>4.35426</td>\n      <td>Private room</td>\n      <td>45</td>\n      <td>2</td>\n      <td>0</td>\n      <td>NaN</td>\n      <td>NaN</td>\n      <td>74</td>\n    </tr>\n    <tr>\n      <th>8927</th>\n      <td>37712866</td>\n      <td>Lovely Midi Apartment</td>\n      <td>234854287</td>\n      <td>Hamza</td>\n      <td>Bruxelles</td>\n      <td>50.83736</td>\n      <td>4.34229</td>\n      <td>Entire home/apt</td>\n      <td>102</td>\n      <td>1</td>\n      <td>0</td>\n      <td>NaN</td>\n      <td>NaN</td>\n      <td>364</td>\n    </tr>\n  </tbody>\n</table>\n<p>8928 rows × 14 columns</p>\n</div>"
     },
     "metadata": {},
     "execution_count": 3
    }
   ],
   "source": [
    "data"
   ]
  },
  {
   "cell_type": "code",
   "execution_count": null,
   "metadata": {},
   "outputs": [],
   "source": []
  }
 ]
}